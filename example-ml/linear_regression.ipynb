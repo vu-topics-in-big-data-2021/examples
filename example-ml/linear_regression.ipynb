{
  "nbformat": 4,
  "nbformat_minor": 0,
  "metadata": {
    "kernelspec": {
      "display_name": "Python 3",
      "language": "python",
      "name": "python3"
    },
    "language_info": {
      "codemirror_mode": {
        "name": "ipython",
        "version": 3
      },
      "file_extension": ".py",
      "mimetype": "text/x-python",
      "name": "python",
      "nbconvert_exporter": "python",
      "pygments_lexer": "ipython3",
      "version": "3.6.4"
    },
    "colab": {
      "name": "linear_regression.ipynb",
      "provenance": [],
      "include_colab_link": true
    }
  },
  "cells": [
    {
      "cell_type": "markdown",
      "metadata": {
        "id": "view-in-github",
        "colab_type": "text"
      },
      "source": [
        "<a href=\"https://colab.research.google.com/github/vu-topics-in-big-data-2021/examples/blob/main/example-ml/linear_regression.ipynb\" target=\"_parent\"><img src=\"https://colab.research.google.com/assets/colab-badge.svg\" alt=\"Open In Colab\"/></a>"
      ]
    },
    {
      "cell_type": "markdown",
      "metadata": {
        "id": "ztTtTWJC6-Jj"
      },
      "source": [
        "![alt text](https://cdn.vanderbilt.edu/vu-www4/brandbar/svg/Optimized/vanderbilt.svg)\n"
      ]
    },
    {
      "cell_type": "markdown",
      "metadata": {
        "id": "trjOdmXG67o5"
      },
      "source": [
        "# Linear Regression\n",
        "\n",
        "## About this Lesson\n",
        "In this lesson, we will learn about and implement simple and multiple linear regression using scikit-learn."
      ]
    },
    {
      "cell_type": "code",
      "metadata": {
        "id": "BbtU4YDQ67o7"
      },
      "source": [
        "import numpy as np\n",
        "import pandas as pd\n",
        "import matplotlib.pyplot as plt"
      ],
      "execution_count": null,
      "outputs": []
    },
    {
      "cell_type": "markdown",
      "metadata": {
        "id": "pP5tNihT67o9"
      },
      "source": [
        "# Simple Example\n",
        "\n",
        "## Importing Data\n",
        "\n",
        "We will use a slightly modified version of the Auto MPG data set from the [UCI Machine Learning Repository](https://archive.ics.uci.edu/ml/datasets/Auto+MPG). The data is stored in comma-seperated value (CSV) format, so we can use the Pandas library to read it into Python."
      ]
    },
    {
      "cell_type": "code",
      "metadata": {
        "id": "r1rsCw7n67o-",
        "colab": {
          "base_uri": "https://localhost:8080/",
          "height": 204
        },
        "outputId": "4dba16e1-e2e3-46d9-8731-c8fc21392532"
      },
      "source": [
        "data = pd.read_csv(\"https://raw.githubusercontent.com/vu-topics-in-big-data-2021/examples/main/example-ml/datasets/regression/auto-mpg.csv\")\n",
        "data.head()"
      ],
      "execution_count": null,
      "outputs": [
        {
          "output_type": "execute_result",
          "data": {
            "text/html": [
              "<div>\n",
              "<style scoped>\n",
              "    .dataframe tbody tr th:only-of-type {\n",
              "        vertical-align: middle;\n",
              "    }\n",
              "\n",
              "    .dataframe tbody tr th {\n",
              "        vertical-align: top;\n",
              "    }\n",
              "\n",
              "    .dataframe thead th {\n",
              "        text-align: right;\n",
              "    }\n",
              "</style>\n",
              "<table border=\"1\" class=\"dataframe\">\n",
              "  <thead>\n",
              "    <tr style=\"text-align: right;\">\n",
              "      <th></th>\n",
              "      <th>mpg</th>\n",
              "      <th>cylinders</th>\n",
              "      <th>displacement</th>\n",
              "      <th>horsepower</th>\n",
              "      <th>weight</th>\n",
              "      <th>acceleration</th>\n",
              "      <th>model year</th>\n",
              "      <th>origin</th>\n",
              "      <th>car name</th>\n",
              "    </tr>\n",
              "  </thead>\n",
              "  <tbody>\n",
              "    <tr>\n",
              "      <th>0</th>\n",
              "      <td>18.0</td>\n",
              "      <td>8</td>\n",
              "      <td>307.0</td>\n",
              "      <td>130.0</td>\n",
              "      <td>3504.0</td>\n",
              "      <td>12.0</td>\n",
              "      <td>70</td>\n",
              "      <td>1</td>\n",
              "      <td>chevrolet chevelle malibu</td>\n",
              "    </tr>\n",
              "    <tr>\n",
              "      <th>1</th>\n",
              "      <td>15.0</td>\n",
              "      <td>8</td>\n",
              "      <td>350.0</td>\n",
              "      <td>165.0</td>\n",
              "      <td>3693.0</td>\n",
              "      <td>11.5</td>\n",
              "      <td>70</td>\n",
              "      <td>1</td>\n",
              "      <td>buick skylark 320</td>\n",
              "    </tr>\n",
              "    <tr>\n",
              "      <th>2</th>\n",
              "      <td>18.0</td>\n",
              "      <td>8</td>\n",
              "      <td>318.0</td>\n",
              "      <td>150.0</td>\n",
              "      <td>3436.0</td>\n",
              "      <td>11.0</td>\n",
              "      <td>70</td>\n",
              "      <td>1</td>\n",
              "      <td>plymouth satellite</td>\n",
              "    </tr>\n",
              "    <tr>\n",
              "      <th>3</th>\n",
              "      <td>16.0</td>\n",
              "      <td>8</td>\n",
              "      <td>304.0</td>\n",
              "      <td>150.0</td>\n",
              "      <td>3433.0</td>\n",
              "      <td>12.0</td>\n",
              "      <td>70</td>\n",
              "      <td>1</td>\n",
              "      <td>amc rebel sst</td>\n",
              "    </tr>\n",
              "    <tr>\n",
              "      <th>4</th>\n",
              "      <td>17.0</td>\n",
              "      <td>8</td>\n",
              "      <td>302.0</td>\n",
              "      <td>140.0</td>\n",
              "      <td>3449.0</td>\n",
              "      <td>10.5</td>\n",
              "      <td>70</td>\n",
              "      <td>1</td>\n",
              "      <td>ford torino</td>\n",
              "    </tr>\n",
              "  </tbody>\n",
              "</table>\n",
              "</div>"
            ],
            "text/plain": [
              "    mpg  cylinders  displacement  ...  model year  origin                   car name\n",
              "0  18.0          8         307.0  ...          70       1  chevrolet chevelle malibu\n",
              "1  15.0          8         350.0  ...          70       1          buick skylark 320\n",
              "2  18.0          8         318.0  ...          70       1         plymouth satellite\n",
              "3  16.0          8         304.0  ...          70       1              amc rebel sst\n",
              "4  17.0          8         302.0  ...          70       1                ford torino\n",
              "\n",
              "[5 rows x 9 columns]"
            ]
          },
          "metadata": {
            "tags": []
          },
          "execution_count": 33
        }
      ]
    },
    {
      "cell_type": "markdown",
      "metadata": {
        "id": "PM69GHhR67pA"
      },
      "source": [
        "## Exploring Data"
      ]
    },
    {
      "cell_type": "markdown",
      "metadata": {
        "id": "foEr8WSl67pB"
      },
      "source": [
        "The data has a number of features which decribe several models of cars. We can use some of the built-in functions of Pandas to explore the data some more. First, let's try generating some basic statistics."
      ]
    },
    {
      "cell_type": "code",
      "metadata": {
        "id": "dHGJ8axf67pB",
        "colab": {
          "base_uri": "https://localhost:8080/",
          "height": 297
        },
        "outputId": "dff89e4d-fa39-4861-f6a5-33e277f535a1"
      },
      "source": [
        "data.describe()"
      ],
      "execution_count": null,
      "outputs": [
        {
          "output_type": "execute_result",
          "data": {
            "text/html": [
              "<div>\n",
              "<style scoped>\n",
              "    .dataframe tbody tr th:only-of-type {\n",
              "        vertical-align: middle;\n",
              "    }\n",
              "\n",
              "    .dataframe tbody tr th {\n",
              "        vertical-align: top;\n",
              "    }\n",
              "\n",
              "    .dataframe thead th {\n",
              "        text-align: right;\n",
              "    }\n",
              "</style>\n",
              "<table border=\"1\" class=\"dataframe\">\n",
              "  <thead>\n",
              "    <tr style=\"text-align: right;\">\n",
              "      <th></th>\n",
              "      <th>mpg</th>\n",
              "      <th>cylinders</th>\n",
              "      <th>displacement</th>\n",
              "      <th>horsepower</th>\n",
              "      <th>weight</th>\n",
              "      <th>acceleration</th>\n",
              "      <th>model year</th>\n",
              "      <th>origin</th>\n",
              "    </tr>\n",
              "  </thead>\n",
              "  <tbody>\n",
              "    <tr>\n",
              "      <th>count</th>\n",
              "      <td>392.000000</td>\n",
              "      <td>392.000000</td>\n",
              "      <td>392.000000</td>\n",
              "      <td>392.000000</td>\n",
              "      <td>392.000000</td>\n",
              "      <td>392.000000</td>\n",
              "      <td>392.000000</td>\n",
              "      <td>392.000000</td>\n",
              "    </tr>\n",
              "    <tr>\n",
              "      <th>mean</th>\n",
              "      <td>23.445918</td>\n",
              "      <td>5.471939</td>\n",
              "      <td>194.411990</td>\n",
              "      <td>104.469388</td>\n",
              "      <td>2977.584184</td>\n",
              "      <td>15.541327</td>\n",
              "      <td>75.979592</td>\n",
              "      <td>1.576531</td>\n",
              "    </tr>\n",
              "    <tr>\n",
              "      <th>std</th>\n",
              "      <td>7.805007</td>\n",
              "      <td>1.705783</td>\n",
              "      <td>104.644004</td>\n",
              "      <td>38.491160</td>\n",
              "      <td>849.402560</td>\n",
              "      <td>2.758864</td>\n",
              "      <td>3.683737</td>\n",
              "      <td>0.805518</td>\n",
              "    </tr>\n",
              "    <tr>\n",
              "      <th>min</th>\n",
              "      <td>9.000000</td>\n",
              "      <td>3.000000</td>\n",
              "      <td>68.000000</td>\n",
              "      <td>46.000000</td>\n",
              "      <td>1613.000000</td>\n",
              "      <td>8.000000</td>\n",
              "      <td>70.000000</td>\n",
              "      <td>1.000000</td>\n",
              "    </tr>\n",
              "    <tr>\n",
              "      <th>25%</th>\n",
              "      <td>17.000000</td>\n",
              "      <td>4.000000</td>\n",
              "      <td>105.000000</td>\n",
              "      <td>75.000000</td>\n",
              "      <td>2225.250000</td>\n",
              "      <td>13.775000</td>\n",
              "      <td>73.000000</td>\n",
              "      <td>1.000000</td>\n",
              "    </tr>\n",
              "    <tr>\n",
              "      <th>50%</th>\n",
              "      <td>22.750000</td>\n",
              "      <td>4.000000</td>\n",
              "      <td>151.000000</td>\n",
              "      <td>93.500000</td>\n",
              "      <td>2803.500000</td>\n",
              "      <td>15.500000</td>\n",
              "      <td>76.000000</td>\n",
              "      <td>1.000000</td>\n",
              "    </tr>\n",
              "    <tr>\n",
              "      <th>75%</th>\n",
              "      <td>29.000000</td>\n",
              "      <td>8.000000</td>\n",
              "      <td>275.750000</td>\n",
              "      <td>126.000000</td>\n",
              "      <td>3614.750000</td>\n",
              "      <td>17.025000</td>\n",
              "      <td>79.000000</td>\n",
              "      <td>2.000000</td>\n",
              "    </tr>\n",
              "    <tr>\n",
              "      <th>max</th>\n",
              "      <td>46.600000</td>\n",
              "      <td>8.000000</td>\n",
              "      <td>455.000000</td>\n",
              "      <td>230.000000</td>\n",
              "      <td>5140.000000</td>\n",
              "      <td>24.800000</td>\n",
              "      <td>82.000000</td>\n",
              "      <td>3.000000</td>\n",
              "    </tr>\n",
              "  </tbody>\n",
              "</table>\n",
              "</div>"
            ],
            "text/plain": [
              "              mpg   cylinders  ...  model year      origin\n",
              "count  392.000000  392.000000  ...  392.000000  392.000000\n",
              "mean    23.445918    5.471939  ...   75.979592    1.576531\n",
              "std      7.805007    1.705783  ...    3.683737    0.805518\n",
              "min      9.000000    3.000000  ...   70.000000    1.000000\n",
              "25%     17.000000    4.000000  ...   73.000000    1.000000\n",
              "50%     22.750000    4.000000  ...   76.000000    1.000000\n",
              "75%     29.000000    8.000000  ...   79.000000    2.000000\n",
              "max     46.600000    8.000000  ...   82.000000    3.000000\n",
              "\n",
              "[8 rows x 8 columns]"
            ]
          },
          "metadata": {
            "tags": []
          },
          "execution_count": 34
        }
      ]
    },
    {
      "cell_type": "markdown",
      "metadata": {
        "id": "FuUi9hQW67pD"
      },
      "source": [
        "We can also select specific feature columns which we are interested in more than others. This process is called feature selection and is an important part of the data analysis process as we may have data for features which are unimportant or have a negative impact on the accuracy of the model. For example, lets try selecting information about mpg, cylinders, horepower, and weight."
      ]
    },
    {
      "cell_type": "code",
      "metadata": {
        "id": "3urjvYkl67pD",
        "colab": {
          "base_uri": "https://localhost:8080/",
          "height": 204
        },
        "outputId": "4e710a27-3733-4307-e08e-c6f9ab04d32d"
      },
      "source": [
        "features = data[['mpg', 'cylinders', 'horsepower', 'weight']]\n",
        "features.head()"
      ],
      "execution_count": null,
      "outputs": [
        {
          "output_type": "execute_result",
          "data": {
            "text/html": [
              "<div>\n",
              "<style scoped>\n",
              "    .dataframe tbody tr th:only-of-type {\n",
              "        vertical-align: middle;\n",
              "    }\n",
              "\n",
              "    .dataframe tbody tr th {\n",
              "        vertical-align: top;\n",
              "    }\n",
              "\n",
              "    .dataframe thead th {\n",
              "        text-align: right;\n",
              "    }\n",
              "</style>\n",
              "<table border=\"1\" class=\"dataframe\">\n",
              "  <thead>\n",
              "    <tr style=\"text-align: right;\">\n",
              "      <th></th>\n",
              "      <th>mpg</th>\n",
              "      <th>cylinders</th>\n",
              "      <th>horsepower</th>\n",
              "      <th>weight</th>\n",
              "    </tr>\n",
              "  </thead>\n",
              "  <tbody>\n",
              "    <tr>\n",
              "      <th>0</th>\n",
              "      <td>18.0</td>\n",
              "      <td>8</td>\n",
              "      <td>130.0</td>\n",
              "      <td>3504.0</td>\n",
              "    </tr>\n",
              "    <tr>\n",
              "      <th>1</th>\n",
              "      <td>15.0</td>\n",
              "      <td>8</td>\n",
              "      <td>165.0</td>\n",
              "      <td>3693.0</td>\n",
              "    </tr>\n",
              "    <tr>\n",
              "      <th>2</th>\n",
              "      <td>18.0</td>\n",
              "      <td>8</td>\n",
              "      <td>150.0</td>\n",
              "      <td>3436.0</td>\n",
              "    </tr>\n",
              "    <tr>\n",
              "      <th>3</th>\n",
              "      <td>16.0</td>\n",
              "      <td>8</td>\n",
              "      <td>150.0</td>\n",
              "      <td>3433.0</td>\n",
              "    </tr>\n",
              "    <tr>\n",
              "      <th>4</th>\n",
              "      <td>17.0</td>\n",
              "      <td>8</td>\n",
              "      <td>140.0</td>\n",
              "      <td>3449.0</td>\n",
              "    </tr>\n",
              "  </tbody>\n",
              "</table>\n",
              "</div>"
            ],
            "text/plain": [
              "    mpg  cylinders  horsepower  weight\n",
              "0  18.0          8       130.0  3504.0\n",
              "1  15.0          8       165.0  3693.0\n",
              "2  18.0          8       150.0  3436.0\n",
              "3  16.0          8       150.0  3433.0\n",
              "4  17.0          8       140.0  3449.0"
            ]
          },
          "metadata": {
            "tags": []
          },
          "execution_count": 35
        }
      ]
    },
    {
      "cell_type": "markdown",
      "metadata": {
        "id": "uohUUxsm67pF"
      },
      "source": [
        "We can also plot some of these features using Pandas and Matplotlib. Lets first try plotting some histograms."
      ]
    },
    {
      "cell_type": "code",
      "metadata": {
        "id": "Q_SuvXXE67pF",
        "colab": {
          "base_uri": "https://localhost:8080/",
          "height": 281
        },
        "outputId": "22e7cf32-7737-45bc-8b8c-31822a364e0f"
      },
      "source": [
        "hist_data = features[['mpg', 'cylinders', 'horsepower', 'weight']]\n",
        "hist_data.hist()\n",
        "plt.show()"
      ],
      "execution_count": null,
      "outputs": [
        {
          "output_type": "display_data",
          "data": {
            "image/png": "[encoded data removed]",
            "text/plain": [
              "<Figure size 432x288 with 4 Axes>"
            ]
          },
          "metadata": {
            "tags": [],
            "needs_background": "light"
          }
        }
      ]
    },
    {
      "cell_type": "markdown",
      "metadata": {
        "id": "8wJWh9Lx67pG"
      },
      "source": [
        "These histogram plots tell us some information about how the data is distributed. For example, we can see that the majority of cars have somewhere between 80 and 100 horsepower. Also, horsepower, mpg, and weight have distributions which appear to be fairly normal (guassian) while cylinders has a distiubution which is much more discrete. We can also plot these features against one another using scatter plots."
      ]
    },
    {
      "cell_type": "code",
      "metadata": {
        "id": "6xMajVff67pH",
        "colab": {
          "base_uri": "https://localhost:8080/",
          "height": 279
        },
        "outputId": "e6758d15-bcbb-48a1-b2bb-73d55cf7a5f2"
      },
      "source": [
        "plt.scatter(features['horsepower'], features['mpg'], s=6)\n",
        "plt.xlabel(\"Horsepower\")\n",
        "plt.ylabel(\"Fuel Consumption (mpg)\")\n",
        "plt.show()"
      ],
      "execution_count": null,
      "outputs": [
        {
          "output_type": "display_data",
          "data": {
            "image/png": "[encoded data removed]",
            "text/plain": [
              "<Figure size 432x288 with 1 Axes>"
            ]
          },
          "metadata": {
            "tags": [],
            "needs_background": "light"
          }
        }
      ]
    },
    {
      "cell_type": "code",
      "metadata": {
        "id": "20nT0b4Q67pI",
        "colab": {
          "base_uri": "https://localhost:8080/",
          "height": 279
        },
        "outputId": "59abff15-15cb-4537-a17f-17e925ac524f"
      },
      "source": [
        "plt.scatter(features['weight'], features[\"mpg\"], s=6)\n",
        "plt.xlabel(\"Vehicle Weight\")\n",
        "plt.ylabel(\"Fuel Consumption (mpg)\")\n",
        "plt.show()"
      ],
      "execution_count": null,
      "outputs": [
        {
          "output_type": "display_data",
          "data": {
            "image/png": "[encoded data removed]",
            "text/plain": [
              "<Figure size 432x288 with 1 Axes>"
            ]
          },
          "metadata": {
            "tags": [],
            "needs_background": "light"
          }
        }
      ]
    },
    {
      "cell_type": "code",
      "metadata": {
        "id": "XF5dyV3K67pK",
        "colab": {
          "base_uri": "https://localhost:8080/",
          "height": 279
        },
        "outputId": "2144860d-8536-4b57-cf5c-d129a630216d"
      },
      "source": [
        "plt.scatter(features['cylinders'], features[\"mpg\"], s=6)\n",
        "plt.xlabel(\"Number of Cylinders\")\n",
        "plt.ylabel(\"Fuel Consumption (mpg)\")\n",
        "plt.show()"
      ],
      "execution_count": null,
      "outputs": [
        {
          "output_type": "display_data",
          "data": {
            "image/png": "[encoded data removed]",
            "text/plain": [
              "<Figure size 432x288 with 1 Axes>"
            ]
          },
          "metadata": {
            "tags": [],
            "needs_background": "light"
          }
        }
      ]
    },
    {
      "cell_type": "markdown",
      "metadata": {
        "id": "4ZD5v52H67pL"
      },
      "source": [
        "We can see from these plots that several of the variables seem to be related together while others seem to have significantly less related to one another. This is a demonstration of why feature selection is important; we do not want to include features in our model which are not related to the variable we are trying to predict. We will use the relationships seen here in the next section to make predictions."
      ]
    },
    {
      "cell_type": "markdown",
      "metadata": {
        "id": "BIyy-_Z767pM"
      },
      "source": [
        "Now we will use the data that we just explored to make predictions. We can apply a simple linear regression to measure how variables relate to one another and to make predictions about some variables based on others. For this lesson, we will try to build a model to predict the fuel consumption (mpg) of cars based on their other attributes. \n",
        "\n",
        "To start, let's separate the mpg data from the rest of the features that we will use for the model. Often, we will use the variable X to represent the features we will use to predict and the variable y to represent the target that we are predicting. So, that is what we will use here."
      ]
    },
    {
      "cell_type": "code",
      "metadata": {
        "id": "pAWV7qeE67pM"
      },
      "source": [
        "X = features[['cylinders', 'horsepower', 'weight']]\n",
        "y = features[\"mpg\"]"
      ],
      "execution_count": null,
      "outputs": []
    },
    {
      "cell_type": "markdown",
      "metadata": {
        "id": "E7lqmr1G67pO"
      },
      "source": [
        "## Creating a Train and Test Split\n",
        "\n",
        "One of the most important aspects of creating models is to be able to evaluate how well those models work. One way that we often do this in data science is to create a train-test split of the data. This process involves dividing (usually randomly) the full dataset into two mutually exclusive sets: one set that will be used to train the model and one set that will be used to test the model. This provides an accurate picture of how the model performs on data that it has never seen before.\n",
        "\n",
        "We can use the scikit-learn library to divide the dataset into two parts. There are many different ways that we can split the data, but a common way is to use 80% of the data for training and 20% for testing, so that is what we will do here. In this case, we will also set what is called a random seed to ensure that everyone in the class gets the same train-test split."
      ]
    },
    {
      "cell_type": "code",
      "metadata": {
        "id": "WogeP6Wc67pO"
      },
      "source": [
        "from sklearn.model_selection import train_test_split"
      ],
      "execution_count": null,
      "outputs": []
    },
    {
      "cell_type": "code",
      "metadata": {
        "id": "NXYzLqzE67pQ"
      },
      "source": [
        "X_train, X_test, y_train, y_test = train_test_split(X, y, test_size=0.2, random_state=1)"
      ],
      "execution_count": null,
      "outputs": []
    },
    {
      "cell_type": "markdown",
      "metadata": {
        "id": "DdYwPMUD67pR"
      },
      "source": [
        "## Simple Linear Regression\n",
        "\n",
        "Now we are ready to create a predictive model. We will use the linear regression model from scikit-learn to create a model from the training data. For this first model, we will try relating a single feature, weight, to our target, fuel consumption."
      ]
    },
    {
      "cell_type": "code",
      "metadata": {
        "id": "c95Raymu67pS"
      },
      "source": [
        "from sklearn import linear_model"
      ],
      "execution_count": null,
      "outputs": []
    },
    {
      "cell_type": "code",
      "metadata": {
        "id": "WUloB8hn67pT",
        "colab": {
          "base_uri": "https://localhost:8080/"
        },
        "outputId": "6c8a863f-1333-4bb2-bc87-3b7c1a5988b3"
      },
      "source": [
        "weight_data_train = np.array(X_train[\"weight\"]).reshape(-1,1)\n",
        "weight_data_test = np.array(X_test[\"weight\"]).reshape(-1,1)\n",
        "\n",
        "simple_model = linear_model.LinearRegression()\n",
        "simple_model.fit(weight_data_train, y_train)"
      ],
      "execution_count": null,
      "outputs": [
        {
          "output_type": "execute_result",
          "data": {
            "text/plain": [
              "LinearRegression(copy_X=True, fit_intercept=True, n_jobs=None, normalize=False)"
            ]
          },
          "metadata": {
            "tags": []
          },
          "execution_count": 44
        }
      ]
    },
    {
      "cell_type": "markdown",
      "metadata": {
        "id": "wQ_L7lHU67pV"
      },
      "source": [
        "For simple linear regression, the training solves for the equation of a line $y = MX + B$, which best fits the data. The model generates two parameters, the coefficients of the equation ($M$) and the intercept ($B$). We can get this information from the trained model."
      ]
    },
    {
      "cell_type": "code",
      "metadata": {
        "id": "eFbPCGyd67pV",
        "colab": {
          "base_uri": "https://localhost:8080/"
        },
        "outputId": "fa7cdcdb-4fcd-43da-952b-f82ba09bd2e0"
      },
      "source": [
        "print(\"Coefficients: \", simple_model.coef_)\n",
        "print(\"Intercept: \", simple_model.intercept_)"
      ],
      "execution_count": null,
      "outputs": [
        {
          "output_type": "stream",
          "text": [
            "Coefficients:  [-0.0074878]\n",
            "Intercept:  45.57700228788817\n"
          ],
          "name": "stdout"
        }
      ]
    },
    {
      "cell_type": "markdown",
      "metadata": {
        "id": "OKUDsbdd67pX"
      },
      "source": [
        "To evaluate the model, we can plot the line, which the model found against the data."
      ]
    },
    {
      "cell_type": "code",
      "metadata": {
        "id": "KU90UhNW67pX",
        "colab": {
          "base_uri": "https://localhost:8080/",
          "height": 279
        },
        "outputId": "953f892d-8869-43fc-c0ff-eedf6dab8d62"
      },
      "source": [
        "model_line = simple_model.coef_[0]*weight_data_train + simple_model.intercept_\n",
        "\n",
        "plt.scatter(X[\"weight\"], y, s=6)\n",
        "plt.plot(weight_data_train, model_line, 'r')\n",
        "plt.xlabel(\"Vehicle Weight\")\n",
        "plt.ylabel(\"Fuel Consumption (mpg)\")\n",
        "plt.show()"
      ],
      "execution_count": null,
      "outputs": [
        {
          "output_type": "display_data",
          "data": {
            "image/png": "[encoded data removed]",
            "text/plain": [
              "<Figure size 432x288 with 1 Axes>"
            ]
          },
          "metadata": {
            "tags": [],
            "needs_background": "light"
          }
        }
      ]
    },
    {
      "cell_type": "markdown",
      "metadata": {
        "id": "WMbqGo4z67pY"
      },
      "source": [
        "We can see that the model seems to fit the data quite well. To evaluate the model in a more quantitative  way, we can use several statistical metrics and the testing data that we generated earlier. There are many different metrics for evaluating linear regression but three of the most popular and easy to interpret are mean absolute error, mean squared error, and the Pearson correlation coefficient. We will use these three metrics from the scikit-learn library to evaluate our model.\n",
        "\n",
        "Mean absolute error measures the absolute value of the difference between the model's result and the actual value of each tested point, and averages these errors. It is very easy to interpret because it is basically just the average error and can be interpreted in the same units as the target variable.\n",
        "\n",
        "Mean squared error measures the square of the difference between the model's result and the actual value of each tested point, and averages these errors. Mean squared error is popular because it penalizes large errors more than small ones, so it can sometimes give a better sense of how many really big errors are being committed.\n",
        "\n",
        "The Pearson correlation coefficient, also called $R^2$ value, measures how well a line fits to a set of data. This is clearly very useful for linear regression since the model generates a line. In general, the best possible value is 1.0 and indicates that the line fits the data perfectly, and the value gets smaller if the model is worse."
      ]
    },
    {
      "cell_type": "code",
      "metadata": {
        "id": "gQMWrlc467pZ"
      },
      "source": [
        "from sklearn.metrics import r2_score, mean_absolute_error, mean_squared_error"
      ],
      "execution_count": null,
      "outputs": []
    },
    {
      "cell_type": "code",
      "metadata": {
        "id": "arRo9jm067pa",
        "colab": {
          "base_uri": "https://localhost:8080/"
        },
        "outputId": "d4db4a91-c6f6-427e-b492-8dfe3707e147"
      },
      "source": [
        "predictions = simple_model.predict(weight_data_test)\n",
        "\n",
        "print(\"Mean absolute error: %.2f\" % mean_absolute_error(y_test, predictions))\n",
        "print(\"Mean squared error: %.2f\" % mean_squared_error(y_test, predictions))\n",
        "print(\"R2 Score: %.2f\" % r2_score(y_test, predictions))"
      ],
      "execution_count": null,
      "outputs": [
        {
          "output_type": "stream",
          "text": [
            "Mean absolute error: 3.28\n",
            "Mean squared error: 20.21\n",
            "R2 Score: 0.71\n"
          ],
          "name": "stdout"
        }
      ]
    },
    {
      "cell_type": "markdown",
      "metadata": {
        "id": "ItUCl_Yt67pd"
      },
      "source": [
        "## Multiple Linear Regression\n",
        "\n",
        "While the model using a single variable did quite well at predicting fuel consumption, it is possible that we can do even better if we use more of the data. After all, the fuel consumption of a vehicle has more factors than just the weight of the vehicle! This is where multiple linear regression comes in. Instead of building the model with only a single predictor variable, we can instead use multiple. In our case, we will use three: cylinders, horsepower, and weight."
      ]
    },
    {
      "cell_type": "code",
      "metadata": {
        "id": "InQMhdMU67pd",
        "colab": {
          "base_uri": "https://localhost:8080/"
        },
        "outputId": "3f707b4e-52d0-46b3-e087-2cac86ed5d25"
      },
      "source": [
        "multiple_model = linear_model.LinearRegression()\n",
        "multiple_model.fit(X_train, y_train)\n",
        "\n",
        "print(\"Coefficients: \", multiple_model.coef_)\n",
        "print(\"Intercept: \", multiple_model.intercept_)"
      ],
      "execution_count": null,
      "outputs": [
        {
          "output_type": "stream",
          "text": [
            "Coefficients:  [-0.26247879 -0.04601979 -0.00521682]\n",
            "Intercept:  45.00705516964519\n"
          ],
          "name": "stdout"
        }
      ]
    },
    {
      "cell_type": "markdown",
      "metadata": {
        "id": "49kvSLOO67ph"
      },
      "source": [
        "We can see this time that the model generated 3 coefficients, corresponding to the three variables with which the model was trained. It is more difficult to examine a multi-variable model using a plot, but we can still utilize the same metrics as before to evaluate the model quantitatively."
      ]
    },
    {
      "cell_type": "code",
      "metadata": {
        "id": "SqyDLW4d67ph",
        "colab": {
          "base_uri": "https://localhost:8080/"
        },
        "outputId": "cee004d1-b13c-4f7e-e9b0-82f50777984b"
      },
      "source": [
        "predictions = multiple_model.predict(X_test)\n",
        "\n",
        "print(\"Mean absolute error: %.2f\" % mean_absolute_error(y_test, predictions))\n",
        "print(\"Mean squared error: %.2f\" % mean_squared_error(y_test, predictions))\n",
        "print(\"R2 Score: %.2f\" % r2_score(y_test, predictions))"
      ],
      "execution_count": null,
      "outputs": [
        {
          "output_type": "stream",
          "text": [
            "Mean absolute error: 3.23\n",
            "Mean squared error: 19.12\n",
            "R2 Score: 0.72\n"
          ],
          "name": "stdout"
        }
      ]
    },
    {
      "cell_type": "markdown",
      "metadata": {
        "id": "qxtliHWh67pj"
      },
      "source": [
        "As you can see, utilizing multiple features improved the accuracy of the model by all three metrics. This demonstrates the power of the linear model. We can use many different features to predict the value of a complex system."
      ]
    },
    {
      "cell_type": "markdown",
      "metadata": {
        "id": "oBbvu0C767pj"
      },
      "source": [
        "# Advanced Example\n",
        "\n",
        "Now we will turn our attention to a more complex example. This time, we will create a model for air tempurature in an HVAC system in the Engineering Science building here at Vanderbilt. This data is a time series, meaning that the measurements are taken over time instead of instances, as in the previous example with the cars. Additionally, this data is significantly more complex and noisy."
      ]
    },
    {
      "cell_type": "markdown",
      "metadata": {
        "id": "dpsX1LCn67pj"
      },
      "source": [
        "## Import Data\n",
        "We have a cleaned version of the HVAC data which tracks 21 features over a period of several months. We will create a model for the air temperature when the chiller (AC) is running. The data is stored in CSV format, so we can read it and remove any sections where the chiller is off using Pandas."
      ]
    },
    {
      "cell_type": "code",
      "metadata": {
        "id": "5ijMNaSP67pk",
        "colab": {
          "base_uri": "https://localhost:8080/",
          "height": 394
        },
        "outputId": "7a0261d8-b228-416d-a437-97e0672c68b4"
      },
      "source": [
        "chiller_data = pd.read_csv(\"https://raw.githubusercontent.com/vu-topics-in-big-data-2021/examples/main/example-ml/datasets/Chillers.csv\")\n",
        "chiller_data = chiller_data[chiller_data['PowChi'] != 0.]\n",
        "chiller_data = chiller_data.iloc[0:30000] # Take the first 30,000 data points\n",
        "chiller_data.reset_index(drop=True, inplace=True)\n",
        "\n",
        "chiller_data.head()"
      ],
      "execution_count": null,
      "outputs": [
        {
          "output_type": "execute_result",
          "data": {
            "text/html": [
              "<div>\n",
              "<style scoped>\n",
              "    .dataframe tbody tr th:only-of-type {\n",
              "        vertical-align: middle;\n",
              "    }\n",
              "\n",
              "    .dataframe tbody tr th {\n",
              "        vertical-align: top;\n",
              "    }\n",
              "\n",
              "    .dataframe thead th {\n",
              "        text-align: right;\n",
              "    }\n",
              "</style>\n",
              "<table border=\"1\" class=\"dataframe\">\n",
              "  <thead>\n",
              "    <tr style=\"text-align: right;\">\n",
              "      <th></th>\n",
              "      <th>Time</th>\n",
              "      <th>FlowEvap</th>\n",
              "      <th>FreqFanA</th>\n",
              "      <th>FreqFanB</th>\n",
              "      <th>PerChiLoad</th>\n",
              "      <th>PerFreqFanA</th>\n",
              "      <th>PerFreqFanB</th>\n",
              "      <th>PerHumidity</th>\n",
              "      <th>PowChi</th>\n",
              "      <th>PowChiP</th>\n",
              "      <th>PowConP</th>\n",
              "      <th>PowCool</th>\n",
              "      <th>PowFanA</th>\n",
              "      <th>PowFanB</th>\n",
              "      <th>PowIn</th>\n",
              "      <th>TempAmbient</th>\n",
              "      <th>TempCondIn</th>\n",
              "      <th>TempCondOut</th>\n",
              "      <th>TempEvapIn</th>\n",
              "      <th>TempEvapOut</th>\n",
              "      <th>TempWetBulb</th>\n",
              "    </tr>\n",
              "  </thead>\n",
              "  <tbody>\n",
              "    <tr>\n",
              "      <th>0</th>\n",
              "      <td>2018-01-03 09:25:00</td>\n",
              "      <td>0.001827</td>\n",
              "      <td>38.25</td>\n",
              "      <td>37.73</td>\n",
              "      <td>8.392382</td>\n",
              "      <td>0.638889</td>\n",
              "      <td>0.638889</td>\n",
              "      <td>0.441367</td>\n",
              "      <td>60700.0</td>\n",
              "      <td>17340.0</td>\n",
              "      <td>720.0</td>\n",
              "      <td>6262.577948</td>\n",
              "      <td>3490.000</td>\n",
              "      <td>3580.0</td>\n",
              "      <td>85830.000</td>\n",
              "      <td>-363.619476</td>\n",
              "      <td>291.33</td>\n",
              "      <td>291.24</td>\n",
              "      <td>281.97</td>\n",
              "      <td>281.15</td>\n",
              "      <td>266.256472</td>\n",
              "    </tr>\n",
              "    <tr>\n",
              "      <th>1</th>\n",
              "      <td>2018-01-03 09:30:00</td>\n",
              "      <td>0.001830</td>\n",
              "      <td>58.16</td>\n",
              "      <td>58.22</td>\n",
              "      <td>16.817750</td>\n",
              "      <td>0.965318</td>\n",
              "      <td>0.965318</td>\n",
              "      <td>0.422219</td>\n",
              "      <td>102600.0</td>\n",
              "      <td>17410.0</td>\n",
              "      <td>760.0</td>\n",
              "      <td>7419.907524</td>\n",
              "      <td>9839.999</td>\n",
              "      <td>9730.0</td>\n",
              "      <td>140339.999</td>\n",
              "      <td>-321.029740</td>\n",
              "      <td>283.73</td>\n",
              "      <td>296.32</td>\n",
              "      <td>281.29</td>\n",
              "      <td>280.32</td>\n",
              "      <td>266.155233</td>\n",
              "    </tr>\n",
              "    <tr>\n",
              "      <th>2</th>\n",
              "      <td>2018-01-03 09:35:00</td>\n",
              "      <td>0.001828</td>\n",
              "      <td>52.70</td>\n",
              "      <td>52.76</td>\n",
              "      <td>11.812660</td>\n",
              "      <td>0.874742</td>\n",
              "      <td>0.874742</td>\n",
              "      <td>0.422429</td>\n",
              "      <td>90700.0</td>\n",
              "      <td>17420.0</td>\n",
              "      <td>730.0</td>\n",
              "      <td>5119.705184</td>\n",
              "      <td>7140.000</td>\n",
              "      <td>7410.0</td>\n",
              "      <td>123400.000</td>\n",
              "      <td>-321.304584</td>\n",
              "      <td>280.53</td>\n",
              "      <td>296.47</td>\n",
              "      <td>280.90</td>\n",
              "      <td>280.23</td>\n",
              "      <td>266.431906</td>\n",
              "    </tr>\n",
              "    <tr>\n",
              "      <th>3</th>\n",
              "      <td>2018-01-08 06:05:00</td>\n",
              "      <td>0.001824</td>\n",
              "      <td>59.94</td>\n",
              "      <td>59.40</td>\n",
              "      <td>9.057196</td>\n",
              "      <td>1.000000</td>\n",
              "      <td>1.000000</td>\n",
              "      <td>0.760120</td>\n",
              "      <td>94400.0</td>\n",
              "      <td>17390.0</td>\n",
              "      <td>1380.0</td>\n",
              "      <td>4345.830392</td>\n",
              "      <td>10670.000</td>\n",
              "      <td>10390.0</td>\n",
              "      <td>134230.000</td>\n",
              "      <td>-1189.255741</td>\n",
              "      <td>292.12</td>\n",
              "      <td>293.42</td>\n",
              "      <td>281.92</td>\n",
              "      <td>281.35</td>\n",
              "      <td>274.996133</td>\n",
              "    </tr>\n",
              "    <tr>\n",
              "      <th>4</th>\n",
              "      <td>2018-01-08 06:10:00</td>\n",
              "      <td>0.001824</td>\n",
              "      <td>57.55</td>\n",
              "      <td>57.61</td>\n",
              "      <td>13.815340</td>\n",
              "      <td>0.955134</td>\n",
              "      <td>0.955134</td>\n",
              "      <td>0.769012</td>\n",
              "      <td>95400.0</td>\n",
              "      <td>17290.0</td>\n",
              "      <td>690.0</td>\n",
              "      <td>5642.885372</td>\n",
              "      <td>9270.000</td>\n",
              "      <td>9490.0</td>\n",
              "      <td>132140.000</td>\n",
              "      <td>-1215.361030</td>\n",
              "      <td>285.48</td>\n",
              "      <td>296.62</td>\n",
              "      <td>281.25</td>\n",
              "      <td>280.51</td>\n",
              "      <td>275.081894</td>\n",
              "    </tr>\n",
              "  </tbody>\n",
              "</table>\n",
              "</div>"
            ],
            "text/plain": [
              "                  Time  FlowEvap  ...  TempEvapOut  TempWetBulb\n",
              "0  2018-01-03 09:25:00  0.001827  ...       281.15   266.256472\n",
              "1  2018-01-03 09:30:00  0.001830  ...       280.32   266.155233\n",
              "2  2018-01-03 09:35:00  0.001828  ...       280.23   266.431906\n",
              "3  2018-01-08 06:05:00  0.001824  ...       281.35   274.996133\n",
              "4  2018-01-08 06:10:00  0.001824  ...       280.51   275.081894\n",
              "\n",
              "[5 rows x 21 columns]"
            ]
          },
          "metadata": {
            "tags": []
          },
          "execution_count": 51
        }
      ]
    },
    {
      "cell_type": "markdown",
      "metadata": {
        "id": "GUofAGcj67pl"
      },
      "source": [
        "The post-chiller temperature, or air temperature after the cooling has taken place, is stored in the column names *TempCondOut*, so we can plot that column over time to see the trend."
      ]
    },
    {
      "cell_type": "code",
      "metadata": {
        "id": "gMaRZwSP67pm",
        "colab": {
          "base_uri": "https://localhost:8080/",
          "height": 279
        },
        "outputId": "eceb0619-2427-41b2-e35c-0e7478f59d98"
      },
      "source": [
        "plt.plot(chiller_data['TempCondOut'])\n",
        "plt.xlabel(\"Time\")\n",
        "plt.ylabel(\"Post-Chiller Temperature\")\n",
        "plt.show()"
      ],
      "execution_count": null,
      "outputs": [
        {
          "output_type": "display_data",
          "data": {
            "image/png": "[encoded data removed]",
            "text/plain": [
              "<Figure size 432x288 with 1 Axes>"
            ]
          },
          "metadata": {
            "tags": [],
            "needs_background": "light"
          }
        }
      ]
    },
    {
      "cell_type": "markdown",
      "metadata": {
        "id": "Yo1sXG9C67pn"
      },
      "source": [
        "## Feature Selection\n",
        "\n",
        "Experts have selected 7 of the remaining 20 features which contribute to the post-chiller temperature, so we will use these 7 features for our model."
      ]
    },
    {
      "cell_type": "code",
      "metadata": {
        "id": "Cts0D5TW67pn"
      },
      "source": [
        "feature_cols = ['TempCondIn', 'TempEvapIn', 'TempEvapOut', 'TempAmbient', 'TempWetBulb', 'FlowEvap', 'PowConP']\n",
        "target_cols = ['TempCondOut']"
      ],
      "execution_count": null,
      "outputs": []
    },
    {
      "cell_type": "markdown",
      "metadata": {
        "id": "HFSlAZMq67po"
      },
      "source": [
        "## Training and Testing Split\n",
        "\n",
        "For time-series data, each data point is related to the previous data points, which is what gives the behavior of a trend in data. So, it is not always ideal to do a random training and testing split as we did in the previous example. Instead, we will take the first 20% of the data points to train the model and we will test on the remaining 80%. This will allow us to see if the learned model accurately measures the trends by plotting the predicted values."
      ]
    },
    {
      "cell_type": "code",
      "metadata": {
        "id": "AFwSHBFX67pp"
      },
      "source": [
        "chiller_train, chiller_test = np.split(chiller_data, [int(.2*len(chiller_data))])\n",
        "\n",
        "X_train = chiller_train[feature_cols].values\n",
        "X_test = chiller_test[feature_cols].values\n",
        "y_train = chiller_train[target_cols].values\n",
        "y_test = chiller_test[target_cols].values"
      ],
      "execution_count": null,
      "outputs": []
    },
    {
      "cell_type": "markdown",
      "metadata": {
        "id": "jAAFObC167pq"
      },
      "source": [
        "## Linear Regression Model\n",
        "\n",
        "Now we are ready to create the model. We will again use multiple linear regression in scikit-learn with the 7 features extracted earlier and the post-chiller temperature as the target variable."
      ]
    },
    {
      "cell_type": "code",
      "metadata": {
        "id": "CHXOOjtD67pr",
        "colab": {
          "base_uri": "https://localhost:8080/"
        },
        "outputId": "05abfa83-9420-4647-f566-1ef4cad7877f"
      },
      "source": [
        "reg = linear_model.LinearRegression()\n",
        "reg.fit(X_train, y_train)"
      ],
      "execution_count": null,
      "outputs": [
        {
          "output_type": "execute_result",
          "data": {
            "text/plain": [
              "LinearRegression(copy_X=True, fit_intercept=True, n_jobs=None, normalize=False)"
            ]
          },
          "metadata": {
            "tags": []
          },
          "execution_count": 55
        }
      ]
    },
    {
      "cell_type": "code",
      "metadata": {
        "id": "1XbG5Dhf67ps"
      },
      "source": [
        "preds = reg.predict(X_test)"
      ],
      "execution_count": null,
      "outputs": []
    },
    {
      "cell_type": "markdown",
      "metadata": {
        "id": "mqkeXh3967pt"
      },
      "source": [
        "Since the data is a time series, we can plot the results of the predictive model with the actual values against time. You will notice that the plotted predicted values are not a straight line as they were earlier. It is important to remember that the linear relationship that the model found is between the features and the post-chiller temperature, while we are plotting the post-chiller temperature versus time."
      ]
    },
    {
      "cell_type": "code",
      "metadata": {
        "id": "2LxGfULL67pt",
        "colab": {
          "base_uri": "https://localhost:8080/",
          "height": 334
        },
        "outputId": "805bf837-d91f-4801-ac4b-f4588c4c9d84"
      },
      "source": [
        "plt.figure(figsize=(10,5))\n",
        "plt.plot(preds, label=\"Predicted Value\")\n",
        "plt.plot(y_test, label=\"Actual Measurement\")\n",
        "plt.xlabel(\"Time\")\n",
        "plt.ylabel(\"Post-Chiller Temperature\")\n",
        "plt.legend()\n",
        "plt.show()"
      ],
      "execution_count": null,
      "outputs": [
        {
          "output_type": "display_data",
          "data": {
            "image/png": "[encoded data removed]",
            "text/plain": [
              "<Figure size 720x360 with 1 Axes>"
            ]
          },
          "metadata": {
            "tags": [],
            "needs_background": "light"
          }
        }
      ]
    },
    {
      "cell_type": "markdown",
      "metadata": {
        "id": "MGHloW-t67pu"
      },
      "source": [
        "So we can see visually that the predictions follow the actual chiller values quite well. We can also once again use our metrics from earlier to evaluate the model in a more quantitative way."
      ]
    },
    {
      "cell_type": "code",
      "metadata": {
        "id": "x_jbL3Ob67pv",
        "colab": {
          "base_uri": "https://localhost:8080/"
        },
        "outputId": "70435c54-6308-4326-83b7-b7dd8a38c50b"
      },
      "source": [
        "print(\"Mean absolute error: %.2f\" % mean_absolute_error(y_test, preds))\n",
        "print(\"Mean squared error: %.2f\" % mean_squared_error(y_test, preds))\n",
        "print(\"R2 Score: %.2f\" % r2_score(y_test, preds))"
      ],
      "execution_count": null,
      "outputs": [
        {
          "output_type": "stream",
          "text": [
            "Mean absolute error: 0.43\n",
            "Mean squared error: 0.43\n",
            "R2 Score: 0.91\n"
          ],
          "name": "stdout"
        }
      ]
    },
    {
      "cell_type": "markdown",
      "metadata": {
        "id": "EKcP0_y467pw"
      },
      "source": [
        "As you can see, the model is very good based on our quantitative metrics as well. This shows the power of the simple linear model. We can very easily create an extremely accurate model of very complex real-world systems."
      ]
    }
  ]
}
