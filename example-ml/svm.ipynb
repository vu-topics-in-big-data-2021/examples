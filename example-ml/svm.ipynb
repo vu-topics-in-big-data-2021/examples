{
  "nbformat": 4,
  "nbformat_minor": 0,
  "metadata": {
    "kernelspec": {
      "display_name": "Python 3",
      "language": "python",
      "name": "python3"
    },
    "language_info": {
      "codemirror_mode": {
        "name": "ipython",
        "version": 3
      },
      "file_extension": ".py",
      "mimetype": "text/x-python",
      "name": "python",
      "nbconvert_exporter": "python",
      "pygments_lexer": "ipython3",
      "version": "3.6.4"
    },
    "colab": {
      "name": "svm.ipynb",
      "provenance": [],
      "include_colab_link": true
    }
  },
  "cells": [
    {
      "cell_type": "markdown",
      "metadata": {
        "id": "view-in-github",
        "colab_type": "text"
      },
      "source": [
        "<a href=\"https://colab.research.google.com/github/vu-topics-in-big-data-2021/examples/blob/main/example-ml/svm.ipynb\" target=\"_parent\"><img src=\"https://colab.research.google.com/assets/colab-badge.svg\" alt=\"Open In Colab\"/></a>"
      ]
    },
    {
      "cell_type": "markdown",
      "metadata": {
        "id": "wWnrgjlT73ka"
      },
      "source": [
        "![alt text](https://cdn.vanderbilt.edu/vu-www4/brandbar/svg/Optimized/vanderbilt.svg)\n"
      ]
    },
    {
      "cell_type": "markdown",
      "metadata": {
        "id": "JPVMQhh371RB"
      },
      "source": [
        "\n",
        "# Support Vector Machines\n",
        "\n",
        "### About this Lesson\n",
        "In this lesson, we will learn about and implement a support vector machine for both classification and regression using scikit-learn."
      ]
    },
    {
      "cell_type": "code",
      "metadata": {
        "id": "4N6ijpLr71RC"
      },
      "source": [
        "import numpy as np\n",
        "import pandas as pd\n",
        "import matplotlib.pyplot as plt"
      ],
      "execution_count": null,
      "outputs": []
    },
    {
      "cell_type": "markdown",
      "metadata": {
        "id": "9gn6Zc0271RE"
      },
      "source": [
        "## Import Data\n",
        "\n",
        "For this lesson, we will use two datasets. The first set is the Wisconsin breast cancer dataset, which will be used for classification of benign vs malignant tumors. The second set is a slightly modified version of the Auto MPG data set, which will be used to predict fuel consumption. Both sets are originally from the [UCI Machine Learning Repository](https://archive.ics.uci.edu/ml/datasets/)"
      ]
    },
    {
      "cell_type": "code",
      "metadata": {
        "id": "7smLg6bI71RF",
        "colab": {
          "base_uri": "https://localhost:8080/",
          "height": 258
        },
        "outputId": "bba4860c-4bac-4914-8dab-c1fa91729704"
      },
      "source": [
        "cancer_data = pd.read_csv(\"https://raw.githubusercontent.com/vu-topics-in-big-data-2021/examples/main/example-ml/datasets/classification/wisconsin_cancer.csv\")\n",
        "\n",
        "cancer_y = cancer_data[\"target\"]\n",
        "cancer_X = cancer_data.drop(\"target\", axis=1)\n",
        "\n",
        "cancer_X.head()"
      ],
      "execution_count": null,
      "outputs": [
        {
          "output_type": "execute_result",
          "data": {
            "text/html": [
              "<div>\n",
              "<style scoped>\n",
              "    .dataframe tbody tr th:only-of-type {\n",
              "        vertical-align: middle;\n",
              "    }\n",
              "\n",
              "    .dataframe tbody tr th {\n",
              "        vertical-align: top;\n",
              "    }\n",
              "\n",
              "    .dataframe thead th {\n",
              "        text-align: right;\n",
              "    }\n",
              "</style>\n",
              "<table border=\"1\" class=\"dataframe\">\n",
              "  <thead>\n",
              "    <tr style=\"text-align: right;\">\n",
              "      <th></th>\n",
              "      <th>mean radius</th>\n",
              "      <th>mean texture</th>\n",
              "      <th>mean perimeter</th>\n",
              "      <th>mean area</th>\n",
              "      <th>mean smoothness</th>\n",
              "      <th>mean compactness</th>\n",
              "      <th>mean concavity</th>\n",
              "      <th>mean concave points</th>\n",
              "      <th>mean symmetry</th>\n",
              "      <th>mean fractal dimension</th>\n",
              "      <th>radius error</th>\n",
              "      <th>texture error</th>\n",
              "      <th>perimeter error</th>\n",
              "      <th>area error</th>\n",
              "      <th>smoothness error</th>\n",
              "      <th>compactness error</th>\n",
              "      <th>concavity error</th>\n",
              "      <th>concave points error</th>\n",
              "      <th>symmetry error</th>\n",
              "      <th>fractal dimension error</th>\n",
              "      <th>worst radius</th>\n",
              "      <th>worst texture</th>\n",
              "      <th>worst perimeter</th>\n",
              "      <th>worst area</th>\n",
              "      <th>worst smoothness</th>\n",
              "      <th>worst compactness</th>\n",
              "      <th>worst concavity</th>\n",
              "      <th>worst concave points</th>\n",
              "      <th>worst symmetry</th>\n",
              "      <th>worst fractal dimension</th>\n",
              "    </tr>\n",
              "  </thead>\n",
              "  <tbody>\n",
              "    <tr>\n",
              "      <th>0</th>\n",
              "      <td>17.99</td>\n",
              "      <td>10.38</td>\n",
              "      <td>122.80</td>\n",
              "      <td>1001.0</td>\n",
              "      <td>0.11840</td>\n",
              "      <td>0.27760</td>\n",
              "      <td>0.3001</td>\n",
              "      <td>0.14710</td>\n",
              "      <td>0.2419</td>\n",
              "      <td>0.07871</td>\n",
              "      <td>1.0950</td>\n",
              "      <td>0.9053</td>\n",
              "      <td>8.589</td>\n",
              "      <td>153.40</td>\n",
              "      <td>0.006399</td>\n",
              "      <td>0.04904</td>\n",
              "      <td>0.05373</td>\n",
              "      <td>0.01587</td>\n",
              "      <td>0.03003</td>\n",
              "      <td>0.006193</td>\n",
              "      <td>25.38</td>\n",
              "      <td>17.33</td>\n",
              "      <td>184.60</td>\n",
              "      <td>2019.0</td>\n",
              "      <td>0.1622</td>\n",
              "      <td>0.6656</td>\n",
              "      <td>0.7119</td>\n",
              "      <td>0.2654</td>\n",
              "      <td>0.4601</td>\n",
              "      <td>0.11890</td>\n",
              "    </tr>\n",
              "    <tr>\n",
              "      <th>1</th>\n",
              "      <td>20.57</td>\n",
              "      <td>17.77</td>\n",
              "      <td>132.90</td>\n",
              "      <td>1326.0</td>\n",
              "      <td>0.08474</td>\n",
              "      <td>0.07864</td>\n",
              "      <td>0.0869</td>\n",
              "      <td>0.07017</td>\n",
              "      <td>0.1812</td>\n",
              "      <td>0.05667</td>\n",
              "      <td>0.5435</td>\n",
              "      <td>0.7339</td>\n",
              "      <td>3.398</td>\n",
              "      <td>74.08</td>\n",
              "      <td>0.005225</td>\n",
              "      <td>0.01308</td>\n",
              "      <td>0.01860</td>\n",
              "      <td>0.01340</td>\n",
              "      <td>0.01389</td>\n",
              "      <td>0.003532</td>\n",
              "      <td>24.99</td>\n",
              "      <td>23.41</td>\n",
              "      <td>158.80</td>\n",
              "      <td>1956.0</td>\n",
              "      <td>0.1238</td>\n",
              "      <td>0.1866</td>\n",
              "      <td>0.2416</td>\n",
              "      <td>0.1860</td>\n",
              "      <td>0.2750</td>\n",
              "      <td>0.08902</td>\n",
              "    </tr>\n",
              "    <tr>\n",
              "      <th>2</th>\n",
              "      <td>19.69</td>\n",
              "      <td>21.25</td>\n",
              "      <td>130.00</td>\n",
              "      <td>1203.0</td>\n",
              "      <td>0.10960</td>\n",
              "      <td>0.15990</td>\n",
              "      <td>0.1974</td>\n",
              "      <td>0.12790</td>\n",
              "      <td>0.2069</td>\n",
              "      <td>0.05999</td>\n",
              "      <td>0.7456</td>\n",
              "      <td>0.7869</td>\n",
              "      <td>4.585</td>\n",
              "      <td>94.03</td>\n",
              "      <td>0.006150</td>\n",
              "      <td>0.04006</td>\n",
              "      <td>0.03832</td>\n",
              "      <td>0.02058</td>\n",
              "      <td>0.02250</td>\n",
              "      <td>0.004571</td>\n",
              "      <td>23.57</td>\n",
              "      <td>25.53</td>\n",
              "      <td>152.50</td>\n",
              "      <td>1709.0</td>\n",
              "      <td>0.1444</td>\n",
              "      <td>0.4245</td>\n",
              "      <td>0.4504</td>\n",
              "      <td>0.2430</td>\n",
              "      <td>0.3613</td>\n",
              "      <td>0.08758</td>\n",
              "    </tr>\n",
              "    <tr>\n",
              "      <th>3</th>\n",
              "      <td>11.42</td>\n",
              "      <td>20.38</td>\n",
              "      <td>77.58</td>\n",
              "      <td>386.1</td>\n",
              "      <td>0.14250</td>\n",
              "      <td>0.28390</td>\n",
              "      <td>0.2414</td>\n",
              "      <td>0.10520</td>\n",
              "      <td>0.2597</td>\n",
              "      <td>0.09744</td>\n",
              "      <td>0.4956</td>\n",
              "      <td>1.1560</td>\n",
              "      <td>3.445</td>\n",
              "      <td>27.23</td>\n",
              "      <td>0.009110</td>\n",
              "      <td>0.07458</td>\n",
              "      <td>0.05661</td>\n",
              "      <td>0.01867</td>\n",
              "      <td>0.05963</td>\n",
              "      <td>0.009208</td>\n",
              "      <td>14.91</td>\n",
              "      <td>26.50</td>\n",
              "      <td>98.87</td>\n",
              "      <td>567.7</td>\n",
              "      <td>0.2098</td>\n",
              "      <td>0.8663</td>\n",
              "      <td>0.6869</td>\n",
              "      <td>0.2575</td>\n",
              "      <td>0.6638</td>\n",
              "      <td>0.17300</td>\n",
              "    </tr>\n",
              "    <tr>\n",
              "      <th>4</th>\n",
              "      <td>20.29</td>\n",
              "      <td>14.34</td>\n",
              "      <td>135.10</td>\n",
              "      <td>1297.0</td>\n",
              "      <td>0.10030</td>\n",
              "      <td>0.13280</td>\n",
              "      <td>0.1980</td>\n",
              "      <td>0.10430</td>\n",
              "      <td>0.1809</td>\n",
              "      <td>0.05883</td>\n",
              "      <td>0.7572</td>\n",
              "      <td>0.7813</td>\n",
              "      <td>5.438</td>\n",
              "      <td>94.44</td>\n",
              "      <td>0.011490</td>\n",
              "      <td>0.02461</td>\n",
              "      <td>0.05688</td>\n",
              "      <td>0.01885</td>\n",
              "      <td>0.01756</td>\n",
              "      <td>0.005115</td>\n",
              "      <td>22.54</td>\n",
              "      <td>16.67</td>\n",
              "      <td>152.20</td>\n",
              "      <td>1575.0</td>\n",
              "      <td>0.1374</td>\n",
              "      <td>0.2050</td>\n",
              "      <td>0.4000</td>\n",
              "      <td>0.1625</td>\n",
              "      <td>0.2364</td>\n",
              "      <td>0.07678</td>\n",
              "    </tr>\n",
              "  </tbody>\n",
              "</table>\n",
              "</div>"
            ],
            "text/plain": [
              "   mean radius  mean texture  ...  worst symmetry  worst fractal dimension\n",
              "0        17.99         10.38  ...          0.4601                  0.11890\n",
              "1        20.57         17.77  ...          0.2750                  0.08902\n",
              "2        19.69         21.25  ...          0.3613                  0.08758\n",
              "3        11.42         20.38  ...          0.6638                  0.17300\n",
              "4        20.29         14.34  ...          0.2364                  0.07678\n",
              "\n",
              "[5 rows x 30 columns]"
            ]
          },
          "metadata": {
            "tags": []
          },
          "execution_count": 6
        }
      ]
    },
    {
      "cell_type": "code",
      "metadata": {
        "id": "_1IBocGe71RH",
        "colab": {
          "base_uri": "https://localhost:8080/",
          "height": 204
        },
        "outputId": "eeb5130d-9b9e-4b5b-8a45-2cabf4cfa886"
      },
      "source": [
        "car_data = pd.read_csv(\"https://raw.githubusercontent.com/vu-topics-in-big-data-2021/examples/main/example-ml//datasets/regression/auto-mpg.csv\")\n",
        "car_X = car_data[['cylinders', 'horsepower', 'weight']]\n",
        "car_y = car_data['mpg']\n",
        "\n",
        "car_X.head()"
      ],
      "execution_count": null,
      "outputs": [
        {
          "output_type": "execute_result",
          "data": {
            "text/html": [
              "<div>\n",
              "<style scoped>\n",
              "    .dataframe tbody tr th:only-of-type {\n",
              "        vertical-align: middle;\n",
              "    }\n",
              "\n",
              "    .dataframe tbody tr th {\n",
              "        vertical-align: top;\n",
              "    }\n",
              "\n",
              "    .dataframe thead th {\n",
              "        text-align: right;\n",
              "    }\n",
              "</style>\n",
              "<table border=\"1\" class=\"dataframe\">\n",
              "  <thead>\n",
              "    <tr style=\"text-align: right;\">\n",
              "      <th></th>\n",
              "      <th>cylinders</th>\n",
              "      <th>horsepower</th>\n",
              "      <th>weight</th>\n",
              "    </tr>\n",
              "  </thead>\n",
              "  <tbody>\n",
              "    <tr>\n",
              "      <th>0</th>\n",
              "      <td>8</td>\n",
              "      <td>130.0</td>\n",
              "      <td>3504.0</td>\n",
              "    </tr>\n",
              "    <tr>\n",
              "      <th>1</th>\n",
              "      <td>8</td>\n",
              "      <td>165.0</td>\n",
              "      <td>3693.0</td>\n",
              "    </tr>\n",
              "    <tr>\n",
              "      <th>2</th>\n",
              "      <td>8</td>\n",
              "      <td>150.0</td>\n",
              "      <td>3436.0</td>\n",
              "    </tr>\n",
              "    <tr>\n",
              "      <th>3</th>\n",
              "      <td>8</td>\n",
              "      <td>150.0</td>\n",
              "      <td>3433.0</td>\n",
              "    </tr>\n",
              "    <tr>\n",
              "      <th>4</th>\n",
              "      <td>8</td>\n",
              "      <td>140.0</td>\n",
              "      <td>3449.0</td>\n",
              "    </tr>\n",
              "  </tbody>\n",
              "</table>\n",
              "</div>"
            ],
            "text/plain": [
              "   cylinders  horsepower  weight\n",
              "0          8       130.0  3504.0\n",
              "1          8       165.0  3693.0\n",
              "2          8       150.0  3436.0\n",
              "3          8       150.0  3433.0\n",
              "4          8       140.0  3449.0"
            ]
          },
          "metadata": {
            "tags": []
          },
          "execution_count": 7
        }
      ]
    },
    {
      "cell_type": "markdown",
      "metadata": {
        "id": "h6eCUmCL71RI"
      },
      "source": [
        "## Creating a Train and Test Split\n",
        "\n",
        "One of the most important aspects of creating models is to be able to evaluate how well those models work. One way that we often do this in data science is to create a train-test split of the data. This process involves dividing (usually randomly) the full dataset into two mutually exclusive sets: one set that will be used to train the model and one set that will be used to test the model. This provides an accurate picture of how the model performs on data that it has never seen before.\n",
        "\n",
        "We can use the scikit-learn library to divide the dataset into two parts. There are many different ways that we can split the data, but a common way is to use 80% of the data for training and 20% for testing, so that is what we will do here. In this case, we will also set what is called a random seed to ensure that everyone in the class gets the same train-test split."
      ]
    },
    {
      "cell_type": "code",
      "metadata": {
        "id": "91L8Yghp71RJ"
      },
      "source": [
        "from sklearn.model_selection import train_test_split"
      ],
      "execution_count": null,
      "outputs": []
    },
    {
      "cell_type": "code",
      "metadata": {
        "id": "FbKmCGj071RK"
      },
      "source": [
        "X_cancer_train, X_cancer_test, y_cancer_train, y_cancer_test = train_test_split(cancer_X, cancer_y, test_size=0.2, random_state=1)\n",
        "X_car_train, X_car_test, y_car_train, y_car_test = train_test_split(car_X, car_y, test_size=0.2, random_state=1)"
      ],
      "execution_count": null,
      "outputs": []
    },
    {
      "cell_type": "markdown",
      "metadata": {
        "id": "0qUAUEPS71RL"
      },
      "source": [
        "## SVM Classification\n",
        "\n",
        "Now we are ready to build the model. Support vector machines work by drawing a boundary plane between the data such that the distance from the points to the plane is maximized. Since the distance is maximized, the plane represents the maximal decision boundary between the classes. The scikit-learn library has a built-in support vector classification. So, we'll use that to create our model from the training data."
      ]
    },
    {
      "cell_type": "code",
      "metadata": {
        "id": "-Is89_9Y71RM"
      },
      "source": [
        "from sklearn.svm import SVC"
      ],
      "execution_count": null,
      "outputs": []
    },
    {
      "cell_type": "markdown",
      "metadata": {
        "id": "PR3yEOuB71RN"
      },
      "source": [
        "Support vector machines use a parameter known as a kernel during training and prediction. The kernel essentially takes the data that we have and maps it onto a higher dimensional space. There are several different kernel functions that can be used, but the simplest is the *linear* kernel, which does not do any change to the features at all and instead draws a linear separating boundary. We will use the linear kernel function for this dataset."
      ]
    },
    {
      "cell_type": "code",
      "metadata": {
        "id": "Wq03DjQn71RO",
        "colab": {
          "base_uri": "https://localhost:8080/"
        },
        "outputId": "acf5642a-6f6a-4f93-e21b-d41fd3bf875d"
      },
      "source": [
        "clf = SVC(kernel='linear')\n",
        "clf.fit(X_cancer_train, y_cancer_train)"
      ],
      "execution_count": null,
      "outputs": [
        {
          "output_type": "execute_result",
          "data": {
            "text/plain": [
              "SVC(C=1.0, break_ties=False, cache_size=200, class_weight=None, coef0=0.0,\n",
              "    decision_function_shape='ovr', degree=3, gamma='scale', kernel='linear',\n",
              "    max_iter=-1, probability=False, random_state=None, shrinking=True,\n",
              "    tol=0.001, verbose=False)"
            ]
          },
          "metadata": {
            "tags": []
          },
          "execution_count": 11
        }
      ]
    },
    {
      "cell_type": "markdown",
      "metadata": {
        "id": "M3WDLqDw71RP"
      },
      "source": [
        "Now that the classifier is trained, we want to use the testing data to evaluate its accuracy. When evaluating the performance of a binary classifier such as this one, there are many metrics which are available. Some of the most commonly used as easily interpretable are accuracy, precision, recall, and F1-Score.\n",
        "\n",
        "Accuracy measures the percentage of test data that was correctly labeled. The closer the accuracy is to 1, the better the results. In this sense, it is very easy to interpret. For accuracy to be a good measure of performance, the number of points which contain each label must be approximately equal.\n",
        "\n",
        "Precision and recall are two metrics designed to capture the problem of unbalanced datasets described above. Recall measures the ability of the model to find all of the relevant cases in the dataset. Precision measures the ability of the model to find only the relevant cases in the dataset. For our case, a high recall would mean that out of all of the malignant tumors, we correctly labeled most of them. While a high precision would mean that out of the data that we labeled as malignant, most of them actually were malignant.\n",
        "\n",
        "F1 Score is the harmonic average of precision and recall, meaning that it is a way to measure the overall performance of the classifier in a single metric, regardless of whether the data is balanced or not."
      ]
    },
    {
      "cell_type": "code",
      "metadata": {
        "id": "Hwouapq271RQ"
      },
      "source": [
        "from sklearn.metrics import accuracy_score, precision_score, recall_score, f1_score"
      ],
      "execution_count": null,
      "outputs": []
    },
    {
      "cell_type": "code",
      "metadata": {
        "id": "reEPRK-r71RR",
        "colab": {
          "base_uri": "https://localhost:8080/"
        },
        "outputId": "03a46c4b-3bfd-4968-87ce-da82daf33e45"
      },
      "source": [
        "predictions = clf.predict(X_cancer_test)\n",
        "\n",
        "print(\"Accuracy Score:\\t %.2f\" % accuracy_score(y_cancer_test, predictions))\n",
        "print(\"Precision Score: %.2f\" % precision_score(y_cancer_test, predictions))\n",
        "print(\"Recall Score:\\t %.2f\" % recall_score(y_cancer_test, predictions))\n",
        "print(\"F1 Score:\\t %.2f\" % f1_score(y_cancer_test, predictions))"
      ],
      "execution_count": null,
      "outputs": [
        {
          "output_type": "stream",
          "text": [
            "Accuracy Score:\t 0.96\n",
            "Precision Score: 0.94\n",
            "Recall Score:\t 1.00\n",
            "F1 Score:\t 0.97\n"
          ],
          "name": "stdout"
        }
      ]
    },
    {
      "cell_type": "markdown",
      "metadata": {
        "id": "XF3RyjfP71RS"
      },
      "source": [
        "So we can see that based on all four of our metrics, the SVM classifier performed very well."
      ]
    },
    {
      "cell_type": "markdown",
      "metadata": {
        "id": "qUlroN7k71RT"
      },
      "source": [
        "## SVM Regression\n",
        "\n",
        "Support vector machines are very versatile. Not only can they be used for classification, but also for regression. For regression, instead of drawing a plane which maximizes the distance between data points, the plane is drawn to minimize the distance (or intersect with) the data. Once again, scikit-learn can be used to train a support vector regression model."
      ]
    },
    {
      "cell_type": "code",
      "metadata": {
        "id": "bbfMBdlu71RT"
      },
      "source": [
        "from sklearn.svm import SVR"
      ],
      "execution_count": null,
      "outputs": []
    },
    {
      "cell_type": "markdown",
      "metadata": {
        "id": "nFMpj2U771RV"
      },
      "source": [
        "Once again, the support vector machine takes a parameter which represents the kernel function. To start, let's use a linear kernel, meaning that we will be performing linear regression."
      ]
    },
    {
      "cell_type": "code",
      "metadata": {
        "id": "9fs3wVNG71RV",
        "colab": {
          "base_uri": "https://localhost:8080/"
        },
        "outputId": "ddcb0c71-1c01-4696-b44e-124494a294ba"
      },
      "source": [
        "linear_model = SVR(kernel='linear')\n",
        "linear_model.fit(X_car_train, y_car_train)"
      ],
      "execution_count": null,
      "outputs": [
        {
          "output_type": "execute_result",
          "data": {
            "text/plain": [
              "SVR(C=1.0, cache_size=200, coef0=0.0, degree=3, epsilon=0.1, gamma='scale',\n",
              "    kernel='linear', max_iter=-1, shrinking=True, tol=0.001, verbose=False)"
            ]
          },
          "metadata": {
            "tags": []
          },
          "execution_count": 15
        }
      ]
    },
    {
      "cell_type": "markdown",
      "metadata": {
        "id": "ijEWsA_a71RX"
      },
      "source": [
        "Now to evaluate the model, we can use several statistical metrics and the testing data that we generated earlier. There are many different metrics for evaluating linear regression but three of the most popular and easy to interpret are mean absolute error, mean squared error, and the Pearson correlation coefficient. We will use these three metrics from the scikit-learn library to evaluate our model.\n",
        "\n",
        "Mean absolute error measures the absolute value of the difference between the model's result and the actual value of each tested point, and averages these errors. It is very easy to interpret because it is basically just the average error and can be interpreted in the same units as the target variable.\n",
        "\n",
        "Mean squared error measures the square of the difference between the model's result and the actual value of each tested point, and averages these errors. Mean squared error is popular becuase it penalizes large error more than small ones, so it can sometimes give a better sense of how many really big errors are being committed.\n",
        "\n",
        "The Pearson correlation coefficient, also called $R^2$ value, measures how well a line fits to a set of data. This is clearly very useful for linear regression since the model generates a line. In general, the best possible value is 1.0 and indicates that the line fits the data perfectly, and the value gets smaller if the model is worse."
      ]
    },
    {
      "cell_type": "code",
      "metadata": {
        "id": "ERmtpO8w71RX"
      },
      "source": [
        "from sklearn.metrics import r2_score, mean_absolute_error, mean_squared_error"
      ],
      "execution_count": null,
      "outputs": []
    },
    {
      "cell_type": "code",
      "metadata": {
        "id": "A1hwMxK871RZ",
        "colab": {
          "base_uri": "https://localhost:8080/"
        },
        "outputId": "13bda05c-a98e-445f-bfd1-faa1a6cb0e59"
      },
      "source": [
        "predictions = linear_model.predict(X_car_test)\n",
        "\n",
        "print(\"Mean absolute error: %.2f\" % mean_absolute_error(y_car_test, predictions))\n",
        "print(\"Mean squared error: %.2f\" % mean_squared_error(y_car_test, predictions))\n",
        "print(\"R2 Score: %.2f\" % r2_score(y_car_test, predictions))"
      ],
      "execution_count": null,
      "outputs": [
        {
          "output_type": "stream",
          "text": [
            "Mean absolute error: 3.42\n",
            "Mean squared error: 21.14\n",
            "R2 Score: 0.70\n"
          ],
          "name": "stdout"
        }
      ]
    }
  ]
}
